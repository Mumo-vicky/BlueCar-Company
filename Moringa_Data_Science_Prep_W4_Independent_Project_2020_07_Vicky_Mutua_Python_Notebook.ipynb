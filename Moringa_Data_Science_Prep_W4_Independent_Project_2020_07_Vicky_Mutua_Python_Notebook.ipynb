{
  "nbformat": 4,
  "nbformat_minor": 0,
  "metadata": {
    "colab": {
      "name": "Moringa_Data_Science_Prep_W4_Independent_Project_2020_07_Vicky_Mutua_Python_Notebook.ipynb",
      "provenance": [],
      "authorship_tag": "ABX9TyNuUNyoBQ3mj2WSNHCb7vqg",
      "include_colab_link": true
    },
    "kernelspec": {
      "name": "python3",
      "display_name": "Python 3"
    }
  },
  "cells": [
    {
      "cell_type": "markdown",
      "metadata": {
        "id": "view-in-github",
        "colab_type": "text"
      },
      "source": [
        "<a href=\"https://colab.research.google.com/github/Mumo-vicky/BlueCar-Company/blob/master/Moringa_Data_Science_Prep_W4_Independent_Project_2020_07_Vicky_Mutua_Python_Notebook.ipynb\" target=\"_parent\"><img src=\"https://colab.research.google.com/assets/colab-badge.svg\" alt=\"Open In Colab\"/></a>"
      ]
    },
    {
      "cell_type": "code",
      "metadata": {
        "id": "lV3Vl9dGjFyf",
        "colab_type": "code",
        "colab": {}
      },
      "source": [
        ""
      ],
      "execution_count": null,
      "outputs": []
    }
  ]
}